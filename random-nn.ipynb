{
 "cells": [
  {
   "cell_type": "code",
   "execution_count": 1,
   "metadata": {},
   "outputs": [],
   "source": [
    "from seamless.data import *\n",
    "from seamless.learning import *\n",
    "from seamless.export import *\n",
    "\n",
    "from sklearn.neural_network import MLPClassifier"
   ]
  },
  {
   "cell_type": "code",
   "execution_count": 2,
   "metadata": {},
   "outputs": [],
   "source": [
    "databases = refresh_load_snapshot()"
   ]
  },
  {
   "cell_type": "markdown",
   "metadata": {},
   "source": [
    "# Neural Network: RSSI only"
   ]
  },
  {
   "cell_type": "code",
   "execution_count": 3,
   "metadata": {},
   "outputs": [],
   "source": [
    "rssi_nn = Learner()\n",
    "rssi_nn.mappings = rssi_feature_vector\n",
    "rssi_nn.prepare(databases)"
   ]
  },
  {
   "cell_type": "code",
   "execution_count": 4,
   "metadata": {},
   "outputs": [
    {
     "name": "stdout",
     "output_type": "stream",
     "text": [
      "Training rssi_random_nn-1...\n",
      "             precision    recall  f1-score   support\n",
      "\n",
      "        0.0       0.98      0.92      0.95     59992\n",
      "        1.0       0.99      1.00      0.99    560106\n",
      "\n",
      "avg / total       0.99      0.99      0.99    620098\n",
      "\n",
      "Training rssi_random_nn-2...\n",
      "             precision    recall  f1-score   support\n",
      "\n",
      "        0.0       0.98      0.93      0.95     59992\n",
      "        1.0       0.99      1.00      1.00    560106\n",
      "\n",
      "avg / total       0.99      0.99      0.99    620098\n",
      "\n",
      "Training rssi_random_nn-3...\n",
      "             precision    recall  f1-score   support\n",
      "\n",
      "        0.0       0.98      0.93      0.95     59992\n",
      "        1.0       0.99      1.00      1.00    560106\n",
      "\n",
      "avg / total       0.99      0.99      0.99    620098\n",
      "\n"
     ]
    },
    {
     "data": {
      "text/plain": [
       "<seamless.learning.Learner at 0x7f440a05bef0>"
      ]
     },
     "execution_count": 4,
     "metadata": {},
     "output_type": "execute_result"
    }
   ],
   "source": [
    "rssi_nn.fork_train_export(\"rssi_random_nn-1\", MLPClassifier((100)))\n",
    "rssi_nn.fork_train_export(\"rssi_random_nn-2\", MLPClassifier((100, 200, 300)))\n",
    "rssi_nn.fork_train_export(\"rssi_random_nn-3\", MLPClassifier((400, 400, 400, 400, 400)))"
   ]
  },
  {
   "cell_type": "markdown",
   "metadata": {},
   "source": [
    "# Neural Network: Reduced Feature Vector"
   ]
  },
  {
   "cell_type": "code",
   "execution_count": 5,
   "metadata": {},
   "outputs": [],
   "source": [
    "reduced_random_nn = Learner()\n",
    "reduced_random_nn.mappings = reduced_feature_vector\n",
    "reduced_random_nn.prepare(databases)"
   ]
  },
  {
   "cell_type": "code",
   "execution_count": 6,
   "metadata": {},
   "outputs": [
    {
     "name": "stdout",
     "output_type": "stream",
     "text": [
      "Training reduced_random_nn-1...\n",
      "             precision    recall  f1-score   support\n",
      "\n",
      "        0.0       0.95      0.94      0.94     52503\n",
      "        1.0       0.99      0.99      0.99    438772\n",
      "\n",
      "avg / total       0.99      0.99      0.99    491275\n",
      "\n",
      "Training reduced_random_nn-2...\n",
      "             precision    recall  f1-score   support\n",
      "\n",
      "        0.0       0.97      0.95      0.96     52503\n",
      "        1.0       0.99      1.00      1.00    438772\n",
      "\n",
      "avg / total       0.99      0.99      0.99    491275\n",
      "\n",
      "Training reduced_random_nn-3...\n",
      "             precision    recall  f1-score   support\n",
      "\n",
      "        0.0       0.97      0.95      0.96     52503\n",
      "        1.0       0.99      1.00      1.00    438772\n",
      "\n",
      "avg / total       0.99      0.99      0.99    491275\n",
      "\n"
     ]
    },
    {
     "data": {
      "text/plain": [
       "<seamless.learning.Learner at 0x7f43a6c44320>"
      ]
     },
     "execution_count": 6,
     "metadata": {},
     "output_type": "execute_result"
    }
   ],
   "source": [
    "reduced_random_nn.fork_train_export(\"reduced_random_nn-1\", MLPClassifier((100)))\n",
    "reduced_random_nn.fork_train_export(\"reduced_random_nn-2\", MLPClassifier((100, 200, 300)))\n",
    "reduced_random_nn.fork_train_export(\"reduced_random_nn-3\", MLPClassifier((400, 400, 400, 400, 400)))"
   ]
  },
  {
   "cell_type": "markdown",
   "metadata": {},
   "source": [
    "# Neural Network: Full Feature Vector"
   ]
  },
  {
   "cell_type": "code",
   "execution_count": 7,
   "metadata": {},
   "outputs": [],
   "source": [
    "full_random_nn = Learner()\n",
    "full_random_nn.mappings = full_feature_vector\n",
    "full_random_nn.prepare(databases)"
   ]
  },
  {
   "cell_type": "code",
   "execution_count": 8,
   "metadata": {},
   "outputs": [
    {
     "name": "stdout",
     "output_type": "stream",
     "text": [
      "Training full_random_nn-1...\n",
      "             precision    recall  f1-score   support\n",
      "\n",
      "        0.0       0.96      0.93      0.94     52059\n",
      "        1.0       0.99      1.00      0.99    435360\n",
      "\n",
      "avg / total       0.99      0.99      0.99    487419\n",
      "\n",
      "Training full_random_nn-2...\n",
      "             precision    recall  f1-score   support\n",
      "\n",
      "        0.0       0.98      0.97      0.97     52059\n",
      "        1.0       1.00      1.00      1.00    435360\n",
      "\n",
      "avg / total       0.99      0.99      0.99    487419\n",
      "\n",
      "Training full_random_nn-3...\n",
      "             precision    recall  f1-score   support\n",
      "\n",
      "        0.0       0.98      0.97      0.97     52059\n",
      "        1.0       1.00      1.00      1.00    435360\n",
      "\n",
      "avg / total       0.99      0.99      0.99    487419\n",
      "\n"
     ]
    },
    {
     "data": {
      "text/plain": [
       "<seamless.learning.Learner at 0x7f43cba387f0>"
      ]
     },
     "execution_count": 8,
     "metadata": {},
     "output_type": "execute_result"
    }
   ],
   "source": [
    "full_random_nn.fork_train_export(\"full_random_nn-1\", MLPClassifier((100)))\n",
    "full_random_nn.fork_train_export(\"full_random_nn-2\", MLPClassifier((100, 200, 300)))\n",
    "full_random_nn.fork_train_export(\"full_random_nn-3\", MLPClassifier((400, 400, 400, 400, 400)))"
   ]
  }
 ],
 "metadata": {
  "kernelspec": {
   "display_name": "Python 3",
   "language": "python",
   "name": "python3"
  },
  "language_info": {
   "codemirror_mode": {
    "name": "ipython",
    "version": 3
   },
   "file_extension": ".py",
   "mimetype": "text/x-python",
   "name": "python",
   "nbconvert_exporter": "python",
   "pygments_lexer": "ipython3",
   "version": "3.6.4"
  }
 },
 "nbformat": 4,
 "nbformat_minor": 2
}
