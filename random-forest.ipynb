{
 "cells": [
  {
   "cell_type": "code",
   "execution_count": 1,
   "metadata": {},
   "outputs": [],
   "source": [
    "from seamless.data import *\n",
    "from seamless.learning import *\n",
    "from seamless.export import *\n",
    "\n",
    "from sklearn.ensemble import RandomForestClassifier\n",
    "from imblearn.under_sampling import RandomUnderSampler"
   ]
  },
  {
   "cell_type": "code",
   "execution_count": 2,
   "metadata": {},
   "outputs": [
    {
     "name": "stdout",
     "output_type": "stream",
     "text": [
      "Loading 164 databases in 80 threads...\n",
      "Error loading /seamless-data/user2/.AppleDouble: unable to open database file\n",
      "Error loading /seamless-data/user5/.AppleDouble: unable to open database file\n",
      "Error loading /seamless-data/user4/.AppleDouble: unable to open database file\n",
      "Error loading /seamless-data/user1/.AppleDouble: unable to open database file\n",
      "Error loading /seamless-data/user3/.AppleDouble: unable to open database file\n",
      "... done.\n",
      "Snapshot saved: 2018-10-08.\n"
     ]
    }
   ],
   "source": [
    "databases = refresh_load_snapshot()"
   ]
  },
  {
   "cell_type": "markdown",
   "metadata": {},
   "source": [
    "# Random Forest: RSSI only"
   ]
  },
  {
   "cell_type": "code",
   "execution_count": 3,
   "metadata": {},
   "outputs": [],
   "source": [
    "rssi_forest = Learner()\n",
    "rssi_forest.mappings = rssi_feature_vector\n",
    "rssi_forest.sampler = RandomUnderSampler(random_state=1)\n",
    "rssi_forest.prepare(databases)"
   ]
  },
  {
   "cell_type": "code",
   "execution_count": 4,
   "metadata": {},
   "outputs": [
    {
     "name": "stdout",
     "output_type": "stream",
     "text": [
      "Training rssi_forest-10...\n",
      "             precision    recall  f1-score   support\n",
      "\n",
      "        0.0       0.89      0.96      0.93     59992\n",
      "        1.0       1.00      0.99      0.99    560106\n",
      "\n",
      "avg / total       0.99      0.99      0.99    620098\n",
      "\n",
      "Training rssi_forest-20...\n",
      "             precision    recall  f1-score   support\n",
      "\n",
      "        0.0       0.91      0.96      0.93     59992\n",
      "        1.0       1.00      0.99      0.99    560106\n",
      "\n",
      "avg / total       0.99      0.99      0.99    620098\n",
      "\n",
      "Training rssi_forest-25...\n",
      "             precision    recall  f1-score   support\n",
      "\n",
      "        0.0       0.91      0.96      0.94     59992\n",
      "        1.0       1.00      0.99      0.99    560106\n",
      "\n",
      "avg / total       0.99      0.99      0.99    620098\n",
      "\n"
     ]
    },
    {
     "data": {
      "text/plain": [
       "<seamless.learning.Learner at 0x7fa0ed1d0ba8>"
      ]
     },
     "execution_count": 4,
     "metadata": {},
     "output_type": "execute_result"
    }
   ],
   "source": [
    "rssi_forest.fork_train_export(\"rssi_forest-10\", RandomForestClassifier(10))\n",
    "rssi_forest.fork_train_export(\"rssi_forest-20\", RandomForestClassifier(20))\n",
    "rssi_forest.fork_train_export(\"rssi_forest-25\", RandomForestClassifier(25))"
   ]
  },
  {
   "cell_type": "markdown",
   "metadata": {},
   "source": [
    "# Random Forest: Reduced Feature Vector"
   ]
  },
  {
   "cell_type": "code",
   "execution_count": 5,
   "metadata": {},
   "outputs": [],
   "source": [
    "reduced_forest = Learner()\n",
    "reduced_forest.mappings = reduced_feature_vector\n",
    "reduced_forest.sampler = RandomUnderSampler(random_state=1)\n",
    "reduced_forest.prepare(databases)"
   ]
  },
  {
   "cell_type": "code",
   "execution_count": 6,
   "metadata": {},
   "outputs": [
    {
     "name": "stdout",
     "output_type": "stream",
     "text": [
      "Training reduced_forest-10...\n",
      "             precision    recall  f1-score   support\n",
      "\n",
      "        0.0       0.86      0.98      0.91     52503\n",
      "        1.0       1.00      0.98      0.99    438772\n",
      "\n",
      "avg / total       0.98      0.98      0.98    491275\n",
      "\n",
      "Training reduced_forest-20...\n",
      "             precision    recall  f1-score   support\n",
      "\n",
      "        0.0       0.88      0.98      0.93     52503\n",
      "        1.0       1.00      0.98      0.99    438772\n",
      "\n",
      "avg / total       0.98      0.98      0.98    491275\n",
      "\n",
      "Training reduced_forest-25...\n",
      "             precision    recall  f1-score   support\n",
      "\n",
      "        0.0       0.89      0.98      0.93     52503\n",
      "        1.0       1.00      0.99      0.99    438772\n",
      "\n",
      "avg / total       0.99      0.98      0.98    491275\n",
      "\n"
     ]
    },
    {
     "data": {
      "text/plain": [
       "<seamless.learning.Learner at 0x7f9f6cb71550>"
      ]
     },
     "execution_count": 6,
     "metadata": {},
     "output_type": "execute_result"
    }
   ],
   "source": [
    "reduced_forest.fork_train_export(\"reduced_forest-10\", RandomForestClassifier(10))\n",
    "reduced_forest.fork_train_export(\"reduced_forest-20\", RandomForestClassifier(20))\n",
    "reduced_forest.fork_train_export(\"reduced_forest-25\", RandomForestClassifier(25))"
   ]
  },
  {
   "cell_type": "markdown",
   "metadata": {},
   "source": [
    "# Random Forest: Full Feature Vector"
   ]
  },
  {
   "cell_type": "code",
   "execution_count": 8,
   "metadata": {},
   "outputs": [],
   "source": [
    "full_forest = Learner()\n",
    "full_forest.mappings = full_feature_vector\n",
    "full_forest.sampler = RandomUnderSampler(random_state=1)\n",
    "full_forest.prepare(databases)"
   ]
  },
  {
   "cell_type": "code",
   "execution_count": 10,
   "metadata": {},
   "outputs": [
    {
     "name": "stdout",
     "output_type": "stream",
     "text": [
      "Training full_forest-10...\n",
      "             precision    recall  f1-score   support\n",
      "\n",
      "        0.0       0.87      0.99      0.92     52059\n",
      "        1.0       1.00      0.98      0.99    435360\n",
      "\n",
      "avg / total       0.98      0.98      0.98    487419\n",
      "\n",
      "Training full_forest-20...\n",
      "             precision    recall  f1-score   support\n",
      "\n",
      "        0.0       0.89      0.99      0.94     52059\n",
      "        1.0       1.00      0.99      0.99    435360\n",
      "\n",
      "avg / total       0.99      0.99      0.99    487419\n",
      "\n",
      "Training full_forest-25...\n",
      "             precision    recall  f1-score   support\n",
      "\n",
      "        0.0       0.91      0.99      0.94     52059\n",
      "        1.0       1.00      0.99      0.99    435360\n",
      "\n",
      "avg / total       0.99      0.99      0.99    487419\n",
      "\n"
     ]
    },
    {
     "data": {
      "text/plain": [
       "<seamless.learning.Learner at 0x7f9f771a7cf8>"
      ]
     },
     "execution_count": 10,
     "metadata": {},
     "output_type": "execute_result"
    }
   ],
   "source": [
    "full_forest.fork_train_export(\"full_forest-10\", RandomForestClassifier(10))\n",
    "full_forest.fork_train_export(\"full_forest-20\", RandomForestClassifier(20))\n",
    "full_forest.fork_train_export(\"full_forest-25\", RandomForestClassifier(25))"
   ]
  },
  {
   "cell_type": "code",
   "execution_count": null,
   "metadata": {},
   "outputs": [],
   "source": []
  }
 ],
 "metadata": {
  "kernelspec": {
   "display_name": "Python 3",
   "language": "python",
   "name": "python3"
  },
  "language_info": {
   "codemirror_mode": {
    "name": "ipython",
    "version": 3
   },
   "file_extension": ".py",
   "mimetype": "text/x-python",
   "name": "python",
   "nbconvert_exporter": "python",
   "pygments_lexer": "ipython3",
   "version": "3.6.4"
  }
 },
 "nbformat": 4,
 "nbformat_minor": 2
}
