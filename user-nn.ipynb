{
 "cells": [
  {
   "cell_type": "code",
   "execution_count": 1,
   "metadata": {},
   "outputs": [],
   "source": [
    "from seamless.data import *\n",
    "from seamless.learning import *\n",
    "from seamless.export import *\n",
    "\n",
    "from sklearn.neural_network import MLPClassifier"
   ]
  },
  {
   "cell_type": "code",
   "execution_count": 2,
   "metadata": {},
   "outputs": [],
   "source": [
    "databases = refresh_load_snapshot()"
   ]
  },
  {
   "cell_type": "markdown",
   "metadata": {},
   "source": [
    "# User Neural Network: RSSI only"
   ]
  },
  {
   "cell_type": "code",
   "execution_count": 3,
   "metadata": {},
   "outputs": [],
   "source": [
    "rssi_nn = Learner()\n",
    "rssi_nn.mappings = rssi_feature_vector"
   ]
  },
  {
   "cell_type": "code",
   "execution_count": 4,
   "metadata": {},
   "outputs": [
    {
     "name": "stdout",
     "output_type": "stream",
     "text": [
      "Training rssi_user1_nn-3...\n",
      "             precision    recall  f1-score   support\n",
      "\n",
      "        0.0       0.98      0.97      0.97     25982\n",
      "        1.0       1.00      1.00      1.00    653387\n",
      "\n",
      "avg / total       1.00      1.00      1.00    679369\n",
      "\n",
      "Training rssi_user2_nn-3...\n",
      "             precision    recall  f1-score   support\n",
      "\n",
      "        0.0       0.93      0.75      0.83     26192\n",
      "        1.0       0.98      1.00      0.99    354533\n",
      "\n",
      "avg / total       0.98      0.98      0.98    380725\n",
      "\n",
      "Training rssi_user3_nn-3...\n",
      "             precision    recall  f1-score   support\n",
      "\n",
      "        0.0       0.97      0.88      0.92    124228\n",
      "        1.0       0.98      1.00      0.99    764701\n",
      "\n",
      "avg / total       0.98      0.98      0.98    888929\n",
      "\n"
     ]
    },
    {
     "data": {
      "text/plain": [
       "<seamless.learning.Learner at 0x7f660d501128>"
      ]
     },
     "execution_count": 4,
     "metadata": {},
     "output_type": "execute_result"
    }
   ],
   "source": [
    "rssi_nn.split_prepare(databases, name=\"user1\")\n",
    "rssi_nn.fork_train_export(\"rssi_user1_nn-3\", MLPClassifier((400, 400, 400, 400, 400)))\n",
    "\n",
    "rssi_nn.split_prepare(databases, name=\"user2\")\n",
    "rssi_nn.fork_train_export(\"rssi_user2_nn-3\", MLPClassifier((400, 400, 400, 400, 400)))\n",
    "\n",
    "rssi_nn.split_prepare(databases, name=\"user3\")\n",
    "rssi_nn.fork_train_export(\"rssi_user3_nn-3\", MLPClassifier((400, 400, 400, 400, 400)))"
   ]
  },
  {
   "cell_type": "markdown",
   "metadata": {},
   "source": [
    "# Neural Network: Reduced Feature Vector"
   ]
  },
  {
   "cell_type": "code",
   "execution_count": 5,
   "metadata": {},
   "outputs": [],
   "source": [
    "reduced_nn = Learner()\n",
    "reduced_nn.mappings = reduced_feature_vector"
   ]
  },
  {
   "cell_type": "code",
   "execution_count": 6,
   "metadata": {},
   "outputs": [
    {
     "name": "stdout",
     "output_type": "stream",
     "text": [
      "Training reduced_user1_nn-3...\n",
      "             precision    recall  f1-score   support\n",
      "\n",
      "        0.0       0.92      0.96      0.94     25772\n",
      "        1.0       1.00      1.00      1.00    439487\n",
      "\n",
      "avg / total       0.99      0.99      0.99    465259\n",
      "\n",
      "Training reduced_user2_nn-3...\n",
      "             precision    recall  f1-score   support\n",
      "\n",
      "        0.0       0.79      0.73      0.76     23801\n",
      "        1.0       0.98      0.98      0.98    306163\n",
      "\n",
      "avg / total       0.97      0.97      0.97    329964\n",
      "\n",
      "Training reduced_user3_nn-3...\n",
      "             precision    recall  f1-score   support\n",
      "\n",
      "        0.0       0.93      0.89      0.91    104565\n",
      "        1.0       0.98      0.99      0.99    646044\n",
      "\n",
      "avg / total       0.98      0.98      0.98    750609\n",
      "\n"
     ]
    },
    {
     "data": {
      "text/plain": [
       "<seamless.learning.Learner at 0x7f667a82ca58>"
      ]
     },
     "execution_count": 6,
     "metadata": {},
     "output_type": "execute_result"
    }
   ],
   "source": [
    "reduced_nn.split_prepare(databases, name=\"user1\")\n",
    "reduced_nn.fork_train_export(\"reduced_user1_nn-3\", MLPClassifier((400, 400, 400, 400, 400)))\n",
    "\n",
    "reduced_nn.split_prepare(databases, name=\"user2\")\n",
    "reduced_nn.fork_train_export(\"reduced_user2_nn-3\", MLPClassifier((400, 400, 400, 400, 400)))\n",
    "\n",
    "reduced_nn.split_prepare(databases, name=\"user3\")\n",
    "reduced_nn.fork_train_export(\"reduced_user3_nn-3\", MLPClassifier((400, 400, 400, 400, 400)))"
   ]
  },
  {
   "cell_type": "markdown",
   "metadata": {},
   "source": [
    "# Neural Network: Full Feature Vector"
   ]
  },
  {
   "cell_type": "code",
   "execution_count": 7,
   "metadata": {},
   "outputs": [],
   "source": [
    "full_nn = Learner()\n",
    "full_nn.mappings = full_feature_vector"
   ]
  },
  {
   "cell_type": "code",
   "execution_count": 8,
   "metadata": {},
   "outputs": [
    {
     "name": "stdout",
     "output_type": "stream",
     "text": [
      "Training full_user1_nn-3...\n",
      "             precision    recall  f1-score   support\n",
      "\n",
      "        0.0       0.91      0.69      0.78     25772\n",
      "        1.0       0.98      1.00      0.99    439487\n",
      "\n",
      "avg / total       0.98      0.98      0.98    465259\n",
      "\n",
      "Training full_user2_nn-3...\n",
      "             precision    recall  f1-score   support\n",
      "\n",
      "        0.0       0.72      0.54      0.62     23492\n",
      "        1.0       0.96      0.98      0.97    302383\n",
      "\n",
      "avg / total       0.95      0.95      0.95    325875\n",
      "\n",
      "Training full_user3_nn-3...\n",
      "             precision    recall  f1-score   support\n",
      "\n",
      "        0.0       0.68      0.69      0.68    103850\n",
      "        1.0       0.95      0.95      0.95    638116\n",
      "\n",
      "avg / total       0.91      0.91      0.91    741966\n",
      "\n"
     ]
    },
    {
     "data": {
      "text/plain": [
       "<seamless.learning.Learner at 0x7ff3a46e7470>"
      ]
     },
     "execution_count": 8,
     "metadata": {},
     "output_type": "execute_result"
    }
   ],
   "source": [
    "full_nn.split_prepare(databases, name=\"user1\")\n",
    "full_nn.fork_train_export(\"full_user1_nn-3\", MLPClassifier((400, 400, 400, 400, 400)))\n",
    "\n",
    "full_nn.split_prepare(databases, name=\"user2\")\n",
    "full_nn.fork_train_export(\"full_user2_nn-3\", MLPClassifier((400, 400, 400, 400, 400)))\n",
    "\n",
    "full_nn.split_prepare(databases, name=\"user3\")\n",
    "full_nn.fork_train_export(\"full_user3_nn-3\", MLPClassifier((400, 400, 400, 400, 400)))"
   ]
  }
 ],
 "metadata": {
  "kernelspec": {
   "display_name": "Python 3",
   "language": "python",
   "name": "python3"
  },
  "language_info": {
   "codemirror_mode": {
    "name": "ipython",
    "version": 3
   },
   "file_extension": ".py",
   "mimetype": "text/x-python",
   "name": "python",
   "nbconvert_exporter": "python",
   "pygments_lexer": "ipython3",
   "version": "3.6.4"
  }
 },
 "nbformat": 4,
 "nbformat_minor": 2
}
